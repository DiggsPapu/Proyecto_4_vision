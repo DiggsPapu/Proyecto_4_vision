{
 "cells": [
  {
   "cell_type": "code",
   "execution_count": 11,
   "id": "12d1c4c0-92f6-48db-a9bf-1a67f592ca7e",
   "metadata": {},
   "outputs": [
    {
     "name": "stdout",
     "output_type": "stream",
     "text": [
      "Path to dataset files: /Users/juanluis/.cache/kagglehub/datasets/gpiosenka/coffee-bean-dataset-resized-224-x-224/versions/1\n"
     ]
    }
   ],
   "source": [
    "# cargar base de datos\n",
    "import kagglehub\n",
    "\n",
    "import numpy as np\n",
    "import matplotlib.pyplot as plt\n",
    "from sklearn.metrics import ConfusionMatrixDisplay\n",
    "import matplotlib.pyplot as plt\n",
    "\n",
    "\n",
    "\n",
    "\n",
    "# Download latest version\n",
    "path = kagglehub.dataset_download(\"gpiosenka/coffee-bean-dataset-resized-224-x-224\")\n",
    "\n",
    "print(\"Path to dataset files:\", path)"
   ]
  },
  {
   "cell_type": "code",
   "execution_count": 12,
   "id": "22bd53fa",
   "metadata": {
    "_cell_guid": "b1076dfc-b9ad-4769-8c92-a6c4dae69d19",
    "_uuid": "8f2839f25d086af736a60e9eeb907d3b93b6e0e5",
    "papermill": {
     "duration": 4.181696,
     "end_time": "2025-06-05T04:14:04.583127",
     "exception": false,
     "start_time": "2025-06-05T04:14:00.401431",
     "status": "completed"
    },
    "tags": []
   },
   "outputs": [],
   "source": [
    "# This Python 3 environment comes with many helpful analytics libraries installed\n",
    "# It is defined by the kaggle/python Docker image: https://github.com/kaggle/docker-python\n",
    "# For example, here's several helpful packages to load\n",
    "\n",
    "import numpy as np # linear algebra\n",
    "import pandas as pd # data processing, CSV file I/O (e.g. pd.read_csv)\n",
    "\n",
    "# Input data files are available in the read-only \"../input/\" directory\n",
    "# For example, running this (by clicking run or pressing Shift+Enter) will list all files under the input directory\n",
    "\n",
    "import os\n",
    "for dirname, _, filenames in os.walk('/kaggle/input'):\n",
    "    for filename in filenames:\n",
    "        print(os.path.join(dirname, filename))\n",
    "\n",
    "# You can write up to 20GB to the current directory (/kaggle/working/) that gets preserved as output when you create a version using \"Save & Run All\" \n",
    "# You can also write temporary files to /kaggle/temp/, but they won't be saved outside of the current session"
   ]
  },
  {
   "cell_type": "code",
   "execution_count": 13,
   "id": "e29eba6f",
   "metadata": {
    "papermill": {
     "duration": 5.18737,
     "end_time": "2025-06-05T04:14:09.776958",
     "exception": false,
     "start_time": "2025-06-05T04:14:04.589588",
     "status": "completed"
    },
    "tags": []
   },
   "outputs": [],
   "source": [
    "!pip install keras-tuner --quiet"
   ]
  },
  {
   "cell_type": "code",
   "execution_count": 14,
   "id": "467a0a42",
   "metadata": {
    "papermill": {
     "duration": 20.067696,
     "end_time": "2025-06-05T04:14:29.849447",
     "exception": false,
     "start_time": "2025-06-05T04:14:09.781751",
     "status": "completed"
    },
    "tags": []
   },
   "outputs": [],
   "source": [
    "import tensorflow as tf\n",
    "from tensorflow.keras.preprocessing.image import ImageDataGenerator\n",
    "from sklearn.metrics import classification_report\n",
    "import numpy as np\n",
    "import pandas as pd\n",
    "import keras_tuner as kt\n",
    "import os #/kaggle/input/coffee-bean-dataset-resized-224-x-224"
   ]
  },
  {
   "cell_type": "code",
   "execution_count": 38,
   "id": "89d0a114-376c-49a8-a544-16161986a31b",
   "metadata": {},
   "outputs": [
    {
     "name": "stdout",
     "output_type": "stream",
     "text": [
      "Found 984 images belonging to 4 classes.\n",
      "Found 216 images belonging to 4 classes.\n",
      "Found 400 images belonging to 4 classes.\n"
     ]
    }
   ],
   "source": [
    "from tensorflow.keras.preprocessing.image import ImageDataGenerator\n",
    "\n",
    "# Directorios\n",
    "train_dir = \"/Users/juanluis/.cache/kagglehub/datasets/gpiosenka/coffee-bean-dataset-resized-224-x-224/versions/1/train\"\n",
    "test_dir = \"/Users/juanluis/.cache/kagglehub/datasets/gpiosenka/coffee-bean-dataset-resized-224-x-224/versions/1/test\"\n",
    "\n",
    "# Generadores de datos con augmentación y normalización\n",
    "train_datagen = ImageDataGenerator(\n",
    "    rescale=1./255,\n",
    "    rotation_range=20,\n",
    "    zoom_range=0.2,\n",
    "    horizontal_flip=True,\n",
    "    validation_split=0.18  # 18% para validación, 82% para entrenamiento\n",
    ")\n",
    "\n",
    "# Conjunto de entrenamiento (82%)\n",
    "train_data = train_datagen.flow_from_directory(\n",
    "    train_dir,\n",
    "    target_size=(224, 224),\n",
    "    batch_size=32,\n",
    "    class_mode=\"categorical\",\n",
    "    subset=\"training\",\n",
    "    seed=123\n",
    ")\n",
    "\n",
    "# Conjunto de validación (18%)\n",
    "val_data = train_datagen.flow_from_directory(\n",
    "    train_dir,\n",
    "    target_size=(224, 224),\n",
    "    batch_size=32,\n",
    "    class_mode=\"categorical\",\n",
    "    subset=\"validation\",\n",
    "    seed=123\n",
    ")\n",
    "\n",
    "# Generador de test (sin augmentación)\n",
    "test_datagen = ImageDataGenerator(rescale=1./255)\n",
    "\n",
    "test_data = test_datagen.flow_from_directory(\n",
    "    test_dir,\n",
    "    target_size=(224, 224),\n",
    "    batch_size=32,\n",
    "    class_mode=\"categorical\",\n",
    "    shuffle=False  # importante si necesitas predicciones alineadas con los archivos\n",
    ")\n"
   ]
  },
  {
   "cell_type": "code",
   "execution_count": 40,
   "id": "f148cefb",
   "metadata": {
    "papermill": {
     "duration": 0.014984,
     "end_time": "2025-06-05T04:14:30.271148",
     "exception": false,
     "start_time": "2025-06-05T04:14:30.256164",
     "status": "completed"
    },
    "tags": []
   },
   "outputs": [],
   "source": [
    "\n",
    "  \n",
    "def model_builder(input_shape=(224, 224, 3), num_classes=4):\n",
    "    model = tf.keras.Sequential()\n",
    "    model.add(tf.keras.layers.Input(shape=input_shape))\n",
    "    \n",
    "    \n",
    "    # Bloque 1 \n",
    "    # capa convolucional 64 filtros\n",
    "    model.add(tf.keras.layers.Conv2D(filters=64, kernel_size=(3, 3), \n",
    "                                    activation='relu', padding='same'))\n",
    "    # convolucional 64 filtros\n",
    "    model.add(tf.keras.layers.Conv2D(filters=64, kernel_size=(3, 3), \n",
    "                                    activation='relu', padding='same'))\n",
    "    # Max Pooling 2*2\n",
    "    model.add(tf.keras.layers.MaxPooling2D(pool_size=(2, 2)))\n",
    "    \n",
    "    # Bloque 2 \n",
    "    # capa convolucional 128 filtros\n",
    "    model.add(tf.keras.layers.Conv2D(filters=128, kernel_size=(3, 3), \n",
    "                                    activation='relu', padding='same'))\n",
    "    # capa convolucional 128 filtros\n",
    "    model.add(tf.keras.layers.Conv2D(filters=128, kernel_size=(3, 3), \n",
    "                                    activation='relu', padding='same'))\n",
    "    # Max Pooling 2x2 \n",
    "    model.add(tf.keras.layers.MaxPooling2D(pool_size=(2, 2)))\n",
    "\n",
    "    # Bloque 3 \n",
    "    # capa convolucional 64 filtros\n",
    "    model.add(tf.keras.layers.Conv2D(filters=64, kernel_size=(3, 3), \n",
    "                                    activation='relu', padding='same'))\n",
    "    # capa convolucional 64 filtros\n",
    "    model.add(tf.keras.layers.Conv2D(filters=64, kernel_size=(3, 3), \n",
    "                                    activation='relu', padding='same'))\n",
    "    \n",
    "    # espaquetizacion del tensor \n",
    "    model.add(tf.keras.layers.Flatten())\n",
    "    \n",
    "    # Capas Densas \n",
    "    model.add(tf.keras.layers.Dense(256, activation='relu'))\n",
    "    model.add(tf.keras.layers.Dense(64, activation='relu'))\n",
    "    model.add(tf.keras.layers.Dense(16, activation='relu'))\n",
    "    \n",
    "    # Capa de salida\n",
    "    model.add(tf.keras.layers.Dense(num_classes, activation='softmax'))\n",
    "    \n",
    "    model.compile(optimizer='adam',\n",
    "                 loss='categorical_crossentropy',\n",
    "                 metrics=['accuracy'])\n",
    "    \n",
    "    return model"
   ]
  },
  {
   "cell_type": "code",
   "execution_count": 41,
   "id": "11108e4c-b3d6-4f8b-b8e5-f4b93c756538",
   "metadata": {},
   "outputs": [
    {
     "name": "stdout",
     "output_type": "stream",
     "text": [
      "{'Dark': 0, 'Green': 1, 'Light': 2, 'Medium': 3}\n"
     ]
    }
   ],
   "source": [
    "print(train_data.class_indices)\n"
   ]
  },
  {
   "cell_type": "code",
   "execution_count": 42,
   "id": "951fed06",
   "metadata": {
    "papermill": {
     "duration": 3546.457063,
     "end_time": "2025-06-05T05:13:36.733016",
     "exception": false,
     "start_time": "2025-06-05T04:14:30.275953",
     "status": "completed"
    },
    "tags": []
   },
   "outputs": [
    {
     "name": "stdout",
     "output_type": "stream",
     "text": [
      "Epoch 1/5\n",
      "\u001b[1m31/31\u001b[0m \u001b[32m━━━━━━━━━━━━━━━━━━━━\u001b[0m\u001b[37m\u001b[0m \u001b[1m53s\u001b[0m 2s/step - accuracy: 0.3050 - loss: 2.6726 - val_accuracy: 0.4583 - val_loss: 1.3477\n",
      "Epoch 2/5\n",
      "\u001b[1m31/31\u001b[0m \u001b[32m━━━━━━━━━━━━━━━━━━━━\u001b[0m\u001b[37m\u001b[0m \u001b[1m55s\u001b[0m 2s/step - accuracy: 0.6299 - loss: 1.0390 - val_accuracy: 0.8519 - val_loss: 0.3837\n",
      "Epoch 3/5\n",
      "\u001b[1m31/31\u001b[0m \u001b[32m━━━━━━━━━━━━━━━━━━━━\u001b[0m\u001b[37m\u001b[0m \u001b[1m55s\u001b[0m 2s/step - accuracy: 0.8200 - loss: 0.4441 - val_accuracy: 0.7546 - val_loss: 0.5169\n",
      "Epoch 4/5\n",
      "\u001b[1m31/31\u001b[0m \u001b[32m━━━━━━━━━━━━━━━━━━━━\u001b[0m\u001b[37m\u001b[0m \u001b[1m57s\u001b[0m 2s/step - accuracy: 0.8813 - loss: 0.3258 - val_accuracy: 0.9306 - val_loss: 0.2495\n",
      "Epoch 5/5\n",
      "\u001b[1m31/31\u001b[0m \u001b[32m━━━━━━━━━━━━━━━━━━━━\u001b[0m\u001b[37m\u001b[0m \u001b[1m59s\u001b[0m 2s/step - accuracy: 0.9365 - loss: 0.2245 - val_accuracy: 0.9398 - val_loss: 0.1466\n"
     ]
    },
    {
     "data": {
      "image/png": "[encoded data removed]",
      "text/plain": [
       "<Figure size 640x480 with 1 Axes>"
      ]
     },
     "metadata": {},
     "output_type": "display_data"
    }
   ],
   "source": [
    "\n",
    "\n",
    "model = model_builder(input_shape=(224, 224, 3), num_classes=4)\n",
    "\n",
    "history = model.fit(\n",
    "    train_data,\n",
    "    validation_data=val_data,\n",
    "    epochs=5,\n",
    "    verbose=1\n",
    ")\n",
    "\n",
    "# Graficar accuracy\n",
    "plt.plot(history.history['accuracy'], label='Train Accuracy')\n",
    "plt.plot(history.history['val_accuracy'], label='Validation Accuracy')\n",
    "plt.title('Accuracy durante el entrenamiento')\n",
    "plt.xlabel('Epoch')\n",
    "plt.ylabel('Accuracy')\n",
    "plt.legend()\n",
    "plt.show()\n"
   ]
  },
  {
   "cell_type": "code",
   "execution_count": 44,
   "id": "88236c50",
   "metadata": {
    "papermill": {
     "duration": 1.93955,
     "end_time": "2025-06-05T05:13:38.678358",
     "exception": false,
     "start_time": "2025-06-05T05:13:36.738808",
     "status": "completed"
    },
    "tags": []
   },
   "outputs": [
    {
     "name": "stderr",
     "output_type": "stream",
     "text": [
      "WARNING:absl:You are saving your model as an HDF5 file via `model.save()` or `keras.saving.save_model(model)`. This file format is considered legacy. We recommend using instead the native Keras format, e.g. `model.save('my_model.keras')` or `keras.saving.save_model(model, 'my_model.keras')`. \n"
     ]
    }
   ],
   "source": [
    "model.save(\"modelo/Toto_model.h5\")\n"
   ]
  },
  {
   "cell_type": "code",
   "execution_count": 46,
   "id": "022dbe8f",
   "metadata": {
    "papermill": {
     "duration": 11.831756,
     "end_time": "2025-06-05T05:13:50.515441",
     "exception": false,
     "start_time": "2025-06-05T05:13:38.683685",
     "status": "completed"
    },
    "tags": []
   },
   "outputs": [
    {
     "name": "stderr",
     "output_type": "stream",
     "text": [
      "WARNING:absl:Compiled the loaded model, but the compiled metrics have yet to be built. `model.compile_metrics` will be empty until you train or evaluate the model.\n"
     ]
    }
   ],
   "source": [
    "from tensorflow.keras.models import load_model\n",
    "\n",
    "modelo_cargado = load_model('modelo/Toto_model.h5')\n"
   ]
  },
  {
   "cell_type": "code",
   "execution_count": 47,
   "id": "5e690404-cb65-4261-a4a7-d6e9ffdef0c8",
   "metadata": {},
   "outputs": [
    {
     "name": "stdout",
     "output_type": "stream",
     "text": [
      "\u001b[1m13/13\u001b[0m \u001b[32m━━━━━━━━━━━━━━━━━━━━\u001b[0m\u001b[37m\u001b[0m \u001b[1m5s\u001b[0m 392ms/step\n"
     ]
    }
   ],
   "source": [
    "import numpy as np\n",
    "from sklearn.metrics import confusion_matrix, ConfusionMatrixDisplay\n",
    "\n",
    "# Predicciones (probabilidades)\n",
    "y_pred_probs = model.predict(test_data)\n",
    "\n",
    "# Convertimos a clases predichas (índice de la probabilidad más alta)\n",
    "y_pred = np.argmax(y_pred_probs, axis=1)\n",
    "\n",
    "# Clases reales\n",
    "y_true = test_data.classes\n"
   ]
  },
  {
   "cell_type": "code",
   "execution_count": 48,
   "id": "b51944f1-6e37-4208-ae5c-af76c76cf0c2",
   "metadata": {},
   "outputs": [
    {
     "data": {
      "image/png": "[encoded data removed]",
      "text/plain": [
       "<Figure size 640x480 with 2 Axes>"
      ]
     },
     "metadata": {},
     "output_type": "display_data"
    }
   ],
   "source": [
    "\n",
    "# Nombres de las clases (opcional pero recomendado)\n",
    "class_names = list(test_data.class_indices.keys())\n",
    "\n",
    "# Calcular y graficar la matriz de confusión\n",
    "cm = confusion_matrix(y_true, y_pred)\n",
    "disp = ConfusionMatrixDisplay(confusion_matrix=cm, display_labels=class_names)\n",
    "disp.plot(cmap='Blues', xticks_rotation=45)\n",
    "plt.title(\"Matriz de confusión\")\n",
    "plt.show()\n"
   ]
  },
  {
   "cell_type": "code",
   "execution_count": 49,
   "id": "b3d139fe-010c-4fcd-85e2-af01ebabc7e0",
   "metadata": {},
   "outputs": [
    {
     "name": "stdout",
     "output_type": "stream",
     "text": [
      "              precision    recall  f1-score   support\n",
      "\n",
      "        Dark       0.95      0.99      0.97       100\n",
      "       Green       0.97      0.99      0.98       100\n",
      "       Light       0.99      0.99      0.99       100\n",
      "      Medium       0.98      0.92      0.95       100\n",
      "\n",
      "    accuracy                           0.97       400\n",
      "   macro avg       0.97      0.97      0.97       400\n",
      "weighted avg       0.97      0.97      0.97       400\n",
      "\n"
     ]
    }
   ],
   "source": []
  },
  {
   "cell_type": "code",
   "execution_count": null,
   "id": "8a4647b7-a2ee-47b8-9e1a-054f8838ea33",
   "metadata": {},
   "outputs": [],
   "source": []
  }
 ],
 "metadata": {
  "kaggle": {
   "accelerator": "none",
   "dataSources": [
    {
     "datasetId": 2403562,
     "sourceId": 4059269,
     "sourceType": "datasetVersion"
    }
   ],
   "dockerImageVersionId": 31040,
   "isGpuEnabled": false,
   "isInternetEnabled": true,
   "language": "python",
   "sourceType": "notebook"
  },
  "kernelspec": {
   "display_name": "Python 3 (ipykernel)",
   "language": "python",
   "name": "python3"
  },
  "language_info": {
   "codemirror_mode": {
    "name": "ipython",
    "version": 3
   },
   "file_extension": ".py",
   "mimetype": "text/x-python",
   "name": "python",
   "nbconvert_exporter": "python",
   "pygments_lexer": "ipython3",
   "version": "3.9.6"
  },
  "papermill": {
   "default_parameters": {},
   "duration": 3599.125294,
   "end_time": "2025-06-05T05:13:54.561842",
   "environment_variables": {},
   "exception": null,
   "input_path": "__notebook__.ipynb",
   "output_path": "__notebook__.ipynb",
   "parameters": {},
   "start_time": "2025-06-05T04:13:55.436548",
   "version": "2.6.0"
  }
 },
 "nbformat": 4,
 "nbformat_minor": 5
}
